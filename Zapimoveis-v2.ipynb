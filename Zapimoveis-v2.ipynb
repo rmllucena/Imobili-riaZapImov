{
 "cells": [
  {
   "cell_type": "code",
   "execution_count": 1,
   "metadata": {},
   "outputs": [],
   "source": [
    "endereçozapvenda = \"https://www.zapimoveis.com.br/venda/imoveis/rj+nova-iguacu/?onde=,Rio%20de%20Janeiro,Nova%20Igua%C3%A7u,,,,,,BR%3ERio%20de%20Janeiro%3ENULL%3ENova%20Iguacu,-22.756132,-43.460742&pagina=1&tipo=Im%C3%B3vel%20usado&transacao=Venda\"\n",
    "endereçozapaluguel = \"https://www.zapimoveis.com.br/venda/imoveis/rj+nova-iguacu/?onde=,Rio%20de%20Janeiro,Nova%20Igua%C3%A7u,,,,,,BR%3ERio%20de%20Janeiro%3ENULL%3ENova%20Iguacu,-22.756132,-43.460742&pagina=1&tipo=Im%C3%B3vel%20usado&transacao=Aluguel\""
   ]
  },
  {
   "cell_type": "code",
   "execution_count": 2,
   "metadata": {},
   "outputs": [],
   "source": [
    "import time\n",
    "import requests\n",
    "import pandas as pd\n",
    "from bs4 import BeautifulSoup\n",
    "from selenium import webdriver\n",
    "from selenium.webdriver.chrome.options import Options\n",
    "from pandas import DataFrame"
   ]
  },
  {
   "cell_type": "code",
   "execution_count": null,
   "metadata": {},
   "outputs": [],
   "source": [
    "cidades = [[\"Copacabana\",\"https://www.zapimoveis.com.br/venda/imoveis/rj+rio-de-janeiro+zona-sul+copacabana/?pagina={}&onde=,Rio%20de%20Janeiro,Rio%20de%20Janeiro,Zona%20Sul,Copacabana,,,neighborhood,BR%3ERio%20de%20Janeiro%3ENULL%3ERio%20de%20Janeiro%3EZona%20Sul%3ECopacabana,-22.969442,-43.186845&transacao=Venda&tipo=Im%C3%B3vel%20usado\".format(num)],\n",
    "           [\"Barra da Tijuca\",\"https://www.zapimoveis.com.br/venda/imoveis/rj+rio-de-janeiro+zona-oeste+barra-da-tijuca/?pagina={}&onde=,Rio%20de%20Janeiro,Rio%20de%20Janeiro,Zona%20Oeste,Barra%20da%20Tijuca,,,neighborhood,BR%3ERio%20de%20Janeiro%3ENULL%3ERio%20de%20Janeiro%3EZona%20Oeste%3EBarra%20da%20Tijuca,-23.000371,-43.365895&transacao=Venda&tipo=Im%C3%B3vel%20usado\".format(num)],\n",
    "           [\"Cabo Frio\",\"https://www.zapimoveis.com.br/venda/imoveis/rj+cabo-frio/?pagina={}&onde=,Rio%20de%20Janeiro,Cabo%20Frio,,,,,city,BR%3ERio%20de%20Janeiro%3ENULL%3ECabo%20Frio,-22.886901,-42.026649&transacao=Venda&tipo=Im%C3%B3vel%20usado\".format(num)]]"
   ]
  },
  {
   "cell_type": "code",
   "execution_count": 41,
   "metadata": {},
   "outputs": [],
   "source": []
  },
  {
   "cell_type": "code",
   "execution_count": 57,
   "metadata": {},
   "outputs": [],
   "source": [
    "num = 1\n",
    "\n",
    "cidades = [[\"Copacabana\",\"https://www.zapimoveis.com.br/venda/imoveis/rj+rio-de-janeiro+zona-sul+copacabana/?pagina={}&onde=,Rio%20de%20Janeiro,Rio%20de%20Janeiro,Zona%20Sul,Copacabana,,,neighborhood,BR%3ERio%20de%20Janeiro%3ENULL%3ERio%20de%20Janeiro%3EZona%20Sul%3ECopacabana,-22.969442,-43.186845&transacao=Venda&tipo=Im%C3%B3vel%20usado\".format(num)],\n",
    "           [\"Barra da Tijuca\",\"https://www.zapimoveis.com.br/venda/imoveis/rj+rio-de-janeiro+zona-oeste+barra-da-tijuca/?pagina={}&onde=,Rio%20de%20Janeiro,Rio%20de%20Janeiro,Zona%20Oeste,Barra%20da%20Tijuca,,,neighborhood,BR%3ERio%20de%20Janeiro%3ENULL%3ERio%20de%20Janeiro%3EZona%20Oeste%3EBarra%20da%20Tijuca,-23.000371,-43.365895&transacao=Venda&tipo=Im%C3%B3vel%20usado\".format(num)],\n",
    "           [\"Cabo Frio\",\"https://www.zapimoveis.com.br/venda/imoveis/rj+cabo-frio/?pagina={}&onde=,Rio%20de%20Janeiro,Cabo%20Frio,,,,,city,BR%3ERio%20de%20Janeiro%3ENULL%3ECabo%20Frio,-22.886901,-42.026649&transacao=Venda&tipo=Im%C3%B3vel%20usado\".format(num)]]\n",
    "\n",
    "for bairro in range(len(cidades)):\n",
    "    while num <= 10:\n",
    "        \n",
    "        linkzapvenda = cidades[bairro][1]\n",
    "\n",
    "        option = webdriver.ChromeOptions()\n",
    "        #option.add_argument('headless') \n",
    "        option.add_argument(\"enable-automation\");\n",
    "        option.add_argument(\"--window-size=1920,1080\");\n",
    "        option.add_argument(\"--no-sandbox\");\n",
    "        option.add_argument(\"--disable-extensions\");\n",
    "        option.add_argument(\"--dns-prefetch-disable\");\n",
    "        option.add_argument(\"--disable-gpu\");\n",
    "        option.add_argument(\"user-agent=whatever you want\") #https://stackoverflow.com/questions/29916054/change-user-agent-for-selenium-web-driver\n",
    "        option.add_argument('--ignore-certificate-errors')\n",
    "        option.add_argument(\"--test-type\");\n",
    "        driver = webdriver.Chrome(\"C:\\WebDriver/chromedriver.exe\",options=option)\n",
    "\n",
    "        #main_window = driver.window_handles[0]\n",
    "        #new_window = driver.window_handles[1]\n",
    "        #driver.switch_to_window(new_window)\n",
    "\n",
    "        driver.get(linkzapvenda)\n",
    "\n",
    "        time.sleep(5)\n",
    "\n",
    "        #html = driver.page_source\n",
    "\n",
    "\n",
    "\n",
    "        a = driver.find_element_by_css_selector('body').text\n",
    "        #print(a)\n",
    "\n",
    "        lista = a.split(\"\\n\")[73:-56]\n",
    "\n",
    "        imoveis = []\n",
    "        listaimoveis = []\n",
    "        listaimoveistemp = []\n",
    "        ordem = 0\n",
    "\n",
    "        for x in range(len(lista)):\n",
    "            if lista[x] == \"Telefone Mensagem\":     \n",
    "\n",
    "                imoveis.append([lista[x],x,ordem])\n",
    "\n",
    "                y = -ordem\n",
    "                while y < 0:\n",
    "                    listaimoveistemp.append(lista[x+y])\n",
    "                    y += 1\n",
    "                else:\n",
    "                    pass\n",
    "\n",
    "\n",
    "                listaimoveis.append(listaimoveistemp)\n",
    "                listaimoveistemp = []\n",
    "\n",
    "                ordem = 0\n",
    "            else:\n",
    "                ordem += 1\n",
    "\n",
    "        imoveis\n",
    "        df = DataFrame(listaimoveis)\n",
    "\n",
    "        df.to_excel(r\"C:\\Users\\Romulo\\Programação\\Python\\Scripts\\Imobiliaria\\Tabela\\{}\\{}-{}.xlsx\".format(cidades[bairro][0],cidades[bairro][0],num),\n",
    "                                     sheet_name='Sheet_name_1') \n",
    "        df\n",
    "\n",
    "        num += 1\n",
    "\n",
    "\n"
   ]
  },
  {
   "cell_type": "code",
   "execution_count": null,
   "metadata": {},
   "outputs": [],
   "source": []
  },
  {
   "cell_type": "code",
   "execution_count": 22,
   "metadata": {},
   "outputs": [],
   "source": []
  },
  {
   "cell_type": "code",
   "execution_count": 51,
   "metadata": {},
   "outputs": [
    {
     "data": {
      "text/plain": [
       "11"
      ]
     },
     "execution_count": 51,
     "metadata": {},
     "output_type": "execute_result"
    }
   ],
   "source": [
    "num"
   ]
  },
  {
   "cell_type": "code",
   "execution_count": null,
   "metadata": {},
   "outputs": [],
   "source": []
  },
  {
   "cell_type": "code",
   "execution_count": null,
   "metadata": {},
   "outputs": [],
   "source": []
  },
  {
   "cell_type": "code",
   "execution_count": null,
   "metadata": {},
   "outputs": [],
   "source": []
  },
  {
   "cell_type": "code",
   "execution_count": null,
   "metadata": {},
   "outputs": [],
   "source": []
  },
  {
   "cell_type": "code",
   "execution_count": null,
   "metadata": {},
   "outputs": [],
   "source": []
  },
  {
   "cell_type": "code",
   "execution_count": null,
   "metadata": {},
   "outputs": [],
   "source": []
  },
  {
   "cell_type": "code",
   "execution_count": null,
   "metadata": {},
   "outputs": [],
   "source": []
  },
  {
   "cell_type": "code",
   "execution_count": null,
   "metadata": {},
   "outputs": [],
   "source": []
  },
  {
   "cell_type": "code",
   "execution_count": null,
   "metadata": {},
   "outputs": [],
   "source": []
  },
  {
   "cell_type": "code",
   "execution_count": null,
   "metadata": {},
   "outputs": [],
   "source": []
  },
  {
   "cell_type": "code",
   "execution_count": null,
   "metadata": {},
   "outputs": [],
   "source": []
  },
  {
   "cell_type": "code",
   "execution_count": null,
   "metadata": {},
   "outputs": [],
   "source": []
  },
  {
   "cell_type": "code",
   "execution_count": null,
   "metadata": {},
   "outputs": [],
   "source": []
  },
  {
   "cell_type": "code",
   "execution_count": null,
   "metadata": {},
   "outputs": [],
   "source": []
  },
  {
   "cell_type": "code",
   "execution_count": null,
   "metadata": {},
   "outputs": [],
   "source": []
  },
  {
   "cell_type": "code",
   "execution_count": null,
   "metadata": {},
   "outputs": [],
   "source": []
  },
  {
   "cell_type": "code",
   "execution_count": null,
   "metadata": {},
   "outputs": [],
   "source": []
  },
  {
   "cell_type": "code",
   "execution_count": null,
   "metadata": {},
   "outputs": [],
   "source": [
    "lista = a.split(\"\\n\")[73:-56]\n",
    "\n",
    "imoveis = []\n",
    "listaimoveis = []\n",
    "listaimoveistemp = []\n",
    "ordem = 0\n",
    "\n",
    "for x in range(len(lista)):\n",
    "    if lista[x] == \"Telefone Mensagem\":     \n",
    "        \n",
    "        imoveis.append([lista[x],x,ordem])\n",
    "        \n",
    "        y = -ordem\n",
    "        while y < 0:\n",
    "            listaimoveistemp.append(lista[x+y])\n",
    "            y += 1\n",
    "        else:\n",
    "            pass\n",
    "        \n",
    "        \n",
    "        listaimoveis.append(listaimoveistemp)\n",
    "        listaimoveistemp = []\n",
    "        \n",
    "        ordem = 0\n",
    "    else:\n",
    "        ordem += 1\n",
    "        \n",
    "imoveis\n",
    "df = DataFrame(listaimoveis)\n",
    "\n",
    "df.to_excel(\"TabelaZap{}.xlsx\".format(num))\n",
    "df"
   ]
  }
 ],
 "metadata": {
  "kernelspec": {
   "display_name": "Python 3",
   "language": "python",
   "name": "python3"
  },
  "language_info": {
   "codemirror_mode": {
    "name": "ipython",
    "version": 3
   },
   "file_extension": ".py",
   "mimetype": "text/x-python",
   "name": "python",
   "nbconvert_exporter": "python",
   "pygments_lexer": "ipython3",
   "version": "3.8.5"
  }
 },
 "nbformat": 4,
 "nbformat_minor": 4
}
