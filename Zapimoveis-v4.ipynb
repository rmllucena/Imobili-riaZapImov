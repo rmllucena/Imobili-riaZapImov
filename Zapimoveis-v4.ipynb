{
 "cells": [
  {
   "cell_type": "code",
   "execution_count": 35,
   "id": "editorial-mortgage",
   "metadata": {},
   "outputs": [],
   "source": [
    "import time\n",
    "import requests\n",
    "import pandas as pd\n",
    "from bs4 import BeautifulSoup\n",
    "from selenium import webdriver\n",
    "from selenium.webdriver.chrome.options import Options\n",
    "from pandas import DataFrame\n",
    "import openpyxl as xl\n",
    "import os"
   ]
  },
  {
   "cell_type": "code",
   "execution_count": 63,
   "id": "basic-memorial",
   "metadata": {},
   "outputs": [],
   "source": [
    "Cidades = ((\"Botafogo\",\"https://www.zapimoveis.com.br/venda/imoveis/rj+rio-de-janeiro+zona-sul+botafogo/?pagina={}&onde=,Rio%20de%20Janeiro,Rio%20de%20Janeiro,Zona%20Sul,Botafogo,,,neighborhood,BR%3ERio%20de%20Janeiro%3ENULL%3ERio%20de%20Janeiro%3EZona%20Sul%3EBotafogo,-22.951193,-43.180784&transacao=Venda&tipo=Im%C3%B3vel%20usado\"),\n",
    "           (\"BarradaTijuca\",\"https://www.zapimoveis.com.br/venda/imoveis/rj+rio-de-janeiro+zona-oeste+barra-da-tijuca/?pagina={}&onde=,Rio%20de%20Janeiro,Rio%20de%20Janeiro,Zona%20Oeste,Barra%20da%20Tijuca,,,neighborhood,BR%3ERio%20de%20Janeiro%3ENULL%3ERio%20de%20Janeiro%3EZona%20Oeste%3EBarra%20da%20Tijuca,-23.000371,-43.365895&transacao=Venda&tipo=Im%C3%B3vel%20usado\"),\n",
    "           (\"Copacabana\",\"https://www.zapimoveis.com.br/venda/imoveis/rj+rio-de-janeiro+zona-sul+copacabana/?pagina={}&onde=,Rio%20de%20Janeiro,Rio%20de%20Janeiro,Zona%20Sul,Copacabana,,,neighborhood,BR%3ERio%20de%20Janeiro%3ENULL%3ERio%20de%20Janeiro%3EZona%20Sul%3ECopacabana,-22.969442,-43.186845&transacao=Venda&tipo=Im%C3%B3vel%20usado\"),\n",
    "           (\"CaboFrio\",\"https://www.zapimoveis.com.br/venda/imoveis/rj+cabo-frio/?pagina={}&onde=,Rio%20de%20Janeiro,Cabo%20Frio,,,,,city,BR%3ERio%20de%20Janeiro%3ENULL%3ECabo%20Frio,-19.394665,-40.065264&transacao=Venda&tipo=Im%C3%B3vel%20usado\"),\n",
    "           (\"NovaIguaçu\",\"https://www.zapimoveis.com.br/venda/imoveis/rj+nova-iguacu/?pagina={}\"))"
   ]
  },
  {
   "cell_type": "code",
   "execution_count": 44,
   "id": "stretch-hungary",
   "metadata": {},
   "outputs": [],
   "source": [
    "class QueryWebScraping:\n",
    "    def __init__(self, local, endereçoweb, numrepetições):\n",
    "        self.local = local\n",
    "        self.endereçoweb = endereçoweb\n",
    "        self.numrepetições = numrepetições\n",
    "        \n",
    "    def conecta_site(self):\n",
    "                \n",
    "        #ConexãoSelenium\n",
    "        num = 1\n",
    "        while num <= self.numrepetições:\n",
    "            option = webdriver.ChromeOptions()\n",
    "            #option.add_argument('headless') \n",
    "            option.add_argument(\"enable-automation\");\n",
    "            option.add_argument(\"--window-size=1920,1080\");\n",
    "            option.add_argument(\"--no-sandbox\");\n",
    "            option.add_argument(\"--disable-extensions\");\n",
    "            option.add_argument(\"--dns-prefetch-disable\");\n",
    "            option.add_argument(\"--disable-gpu\");\n",
    "            option.add_argument(\"user-agent=whatever you want\") #https://stackoverflow.com/questions/29916054/change-user-agent-for-selenium-web-driver\n",
    "            option.add_argument('--ignore-certificate-errors')\n",
    "            option.add_argument(\"--test-type\");\n",
    "            driver = webdriver.Chrome(r\"C:\\Users\\Romulo\\Programação\\Python\\Scripts\\Imobiliaria\\chromedriver.exe\",options=option);\n",
    "            driver.get(self.endereçoweb)\n",
    "            time.sleep(5)\n",
    "            a = driver.find_element_by_css_selector('body').text\n",
    "\n",
    "            #Dataprep\n",
    "            lista = a.split(\"\\n\")[73:-56]\n",
    "            imoveis = []\n",
    "            listaimoveis = []\n",
    "            listaimoveistemp = []\n",
    "            ordem = 0\n",
    "            for x in range(len(lista)):\n",
    "                if lista[x] == \"Ligar\":     \n",
    "                    imoveis.append([lista[x],x,ordem])\n",
    "                    y = -ordem\n",
    "                    while y < 0:\n",
    "                        listaimoveistemp.append(lista[x+y])\n",
    "                        y += 1\n",
    "                    else:\n",
    "                        pass\n",
    "                    listaimoveis.append(listaimoveistemp)\n",
    "                    listaimoveistemp = []\n",
    "                    ordem = 0\n",
    "                else:\n",
    "                    ordem += 1\n",
    "\n",
    "            #FechamentodeBrowser\n",
    "            driver.close()\n",
    "\n",
    "            #Conclusão\n",
    "            imoveis\n",
    "            df = DataFrame(listaimoveis)\n",
    "            df.to_excel(r\"C:\\Users\\Romulo\\Programação\\Python\\Scripts\\Imobiliaria\\Dataprep\\Base_{}.xlsx\".format(num))\n",
    "            #dfmestre.append(listaimoveis)\n",
    "            print(num)\n",
    "            num += 1\n",
    "        \n",
    "        #return df\n",
    "        "
   ]
  },
  {
   "cell_type": "code",
   "execution_count": 67,
   "id": "noted-damage",
   "metadata": {},
   "outputs": [
    {
     "name": "stdout",
     "output_type": "stream",
     "text": [
      "1\n",
      "2\n",
      "3\n",
      "4\n",
      "5\n",
      "6\n",
      "7\n",
      "8\n",
      "9\n",
      "10\n"
     ]
    }
   ],
   "source": [
    "Query = QueryWebScraping(Cidades[0][0],Cidades[0][1], 10).conecta_site()"
   ]
  },
  {
   "cell_type": "code",
   "execution_count": 66,
   "id": "brazilian-observer",
   "metadata": {},
   "outputs": [
    {
     "data": {
      "text/plain": [
       "'Botafogo'"
      ]
     },
     "execution_count": 66,
     "metadata": {},
     "output_type": "execute_result"
    }
   ],
   "source": [
    "Cidades[0][0]"
   ]
  },
  {
   "cell_type": "code",
   "execution_count": 23,
   "id": "streaming-meaning",
   "metadata": {},
   "outputs": [
    {
     "name": "stdout",
     "output_type": "stream",
     "text": [
      "['48 m²', '2', '1', '1']\n",
      "None\n",
      "['Mensagem', 'na planta', 'R$ 3.307.000', 'O Haus 34 reúne o melhor de dois mundos para proporcionar uma nova forma de morar no bairro Botafogo. As 09 unidades exclusivas do empreendimento reproduzem o conforto e a liberdad...', 'mais', 'Rua Assis Bueno, Botafogo', '350 - 500 m²', '2 - 4', '3 - 4']\n",
      "['Mensagem', 'na planta', 'R$ 3.307.000', 'O Haus 34 reúne o melhor de dois mundos para proporcionar uma nova forma de morar no bairro Botafogo. As 09 unidades exclusivas do empreendimento reproduzem o conforto e a liberdad...', 'mais', 'Rua Assis Bueno, Botafogo', '350 - 500 m²', '2 - 4', '3 - 4']\n",
      "['Conheça o Spazio Vila de Regência, o 3° condomínio fechado desse projeto oferece apartamentos de 2 quartos em Morada de Larajeiras, com elevador, todos com vaga de garagem. Confort...', 'mais', 'Rua dos Rouxinóis, Morada de Laranjeiras', '33 - 42 m²', '1 - 2', '1']\n",
      "['Conheça o Spazio Vila de Regência, o 3° condomínio fechado desse projeto oferece apartamentos de 2 quartos em Morada de Larajeiras, com elevador, todos com vaga de garagem. Confort...', 'mais', 'Rua dos Rouxinóis, Morada de Laranjeiras', '33 - 42 m²', '1 - 2', '1']\n",
      "['48 m²', '2', '1', '1']\n",
      "None\n",
      "None\n"
     ]
    }
   ],
   "source": [
    "for x in range(len(df2[0])):\n",
    "               print(df2[0][x])"
   ]
  },
  {
   "cell_type": "code",
   "execution_count": 15,
   "id": "comfortable-highway",
   "metadata": {},
   "outputs": [],
   "source": [
    "writer = pd.ExcelWriter('Dataprep_teste.xlsx', engine='xlsxwriter')\n",
    "# Convert the dataframe to an XlsxWriter Excel object.\n",
    "df.to_excel(writer, sheet_name='Base', index=False)\n",
    "# Close the Pandas Excel writer and output the Excel file.\n",
    "writer.save()"
   ]
  },
  {
   "cell_type": "code",
   "execution_count": 68,
   "id": "traditional-revolution",
   "metadata": {},
   "outputs": [
    {
     "data": {
      "text/plain": [
       "0"
      ]
     },
     "execution_count": 68,
     "metadata": {},
     "output_type": "execute_result"
    }
   ],
   "source": [
    "os.system(r'C:\\Users\\Romulo\\Programação\\Python\\Scripts\\Imobiliaria\\Dataprep\\Dataprep-Novoformato_Macro.xlsm')"
   ]
  },
  {
   "cell_type": "code",
   "execution_count": 47,
   "id": "requested-granny",
   "metadata": {},
   "outputs": [
    {
     "data": {
      "text/plain": [
       "1"
      ]
     },
     "execution_count": 47,
     "metadata": {},
     "output_type": "execute_result"
    }
   ],
   "source": [
    "os.system(r'C:\\Users\\Romulo\\Programação\\Python\\Scripts\\Imobiliaria\\Dataprep\\Dataprep-Novoformato_Macro.xlsm')"
   ]
  },
  {
   "cell_type": "code",
   "execution_count": null,
   "id": "increased-great",
   "metadata": {},
   "outputs": [],
   "source": []
  },
  {
   "cell_type": "code",
   "execution_count": 71,
   "id": "outstanding-novel",
   "metadata": {},
   "outputs": [],
   "source": [
    "for x in range(1,10):\n",
    "    file = open(r\"C:\\Users\\Romulo\\Programação\\Python\\Scripts\\Imobiliaria\\Dataprep\\Base_{}.xlsx\".format(x), \"r\")\n",
    "    x += 1"
   ]
  },
  {
   "cell_type": "code",
   "execution_count": 72,
   "id": "personal-buyer",
   "metadata": {},
   "outputs": [
    {
     "name": "stdout",
     "output_type": "stream",
     "text": [
      "\n"
     ]
    }
   ],
   "source": [
    "f = open(r\"C:\\Users\\Romulo\\Programação\\Python\\Scripts\\Imobiliaria\\Dataprep\\Base_1.xlsx\", \"r\")\n",
    "print(f.read())"
   ]
  },
  {
   "cell_type": "code",
   "execution_count": null,
   "id": "corporate-australian",
   "metadata": {},
   "outputs": [],
   "source": []
  },
  {
   "cell_type": "code",
   "execution_count": null,
   "id": "three-october",
   "metadata": {},
   "outputs": [],
   "source": []
  },
  {
   "cell_type": "code",
   "execution_count": null,
   "id": "painful-sapphire",
   "metadata": {},
   "outputs": [],
   "source": []
  }
 ],
 "metadata": {
  "kernelspec": {
   "display_name": "Python 3",
   "language": "python",
   "name": "python3"
  },
  "language_info": {
   "codemirror_mode": {
    "name": "ipython",
    "version": 3
   },
   "file_extension": ".py",
   "mimetype": "text/x-python",
   "name": "python",
   "nbconvert_exporter": "python",
   "pygments_lexer": "ipython3",
   "version": "3.9.2"
  }
 },
 "nbformat": 4,
 "nbformat_minor": 5
}
