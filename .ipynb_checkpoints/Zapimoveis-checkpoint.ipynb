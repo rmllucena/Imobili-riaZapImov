{
 "cells": [
  {
   "cell_type": "code",
   "execution_count": 3,
   "metadata": {},
   "outputs": [],
   "source": [
    "endereçozapvenda = \"https://www.zapimoveis.com.br/venda/imoveis/rj+nova-iguacu/?onde=,Rio%20de%20Janeiro,Nova%20Igua%C3%A7u,,,,,,BR%3ERio%20de%20Janeiro%3ENULL%3ENova%20Iguacu,-22.756132,-43.460742&pagina=1&tipo=Im%C3%B3vel%20usado&transacao=Venda\"\n",
    "endereçozapaluguel = \"https://www.zapimoveis.com.br/venda/imoveis/rj+nova-iguacu/?onde=,Rio%20de%20Janeiro,Nova%20Igua%C3%A7u,,,,,,BR%3ERio%20de%20Janeiro%3ENULL%3ENova%20Iguacu,-22.756132,-43.460742&pagina=1&tipo=Im%C3%B3vel%20usado&transacao=Aluguel\""
   ]
  },
  {
   "cell_type": "code",
   "execution_count": 1,
   "metadata": {},
   "outputs": [],
   "source": [
    "import time\n",
    "import requests\n",
    "import pandas as pd\n",
    "from bs4 import BeautifulSoup\n",
    "from selenium import webdriver\n",
    "from selenium.webdriver.chrome.options import Options\n",
    "from pandas import DataFrame"
   ]
  },
  {
   "cell_type": "code",
   "execution_count": null,
   "metadata": {},
   "outputs": [],
   "source": [
    "for linkvenda in range(0,10):\n",
    "    "
   ]
  }
 ],
 "metadata": {
  "kernelspec": {
   "display_name": "Python 3",
   "language": "python",
   "name": "python3"
  },
  "language_info": {
   "codemirror_mode": {
    "name": "ipython",
    "version": 3
   },
   "file_extension": ".py",
   "mimetype": "text/x-python",
   "name": "python",
   "nbconvert_exporter": "python",
   "pygments_lexer": "ipython3",
   "version": "3.8.5"
  }
 },
 "nbformat": 4,
 "nbformat_minor": 4
}
